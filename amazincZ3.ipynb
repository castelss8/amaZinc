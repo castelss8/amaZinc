{
 "cells": [
  {
   "cell_type": "code",
   "execution_count": 2,
   "metadata": {},
   "outputs": [],
   "source": [
    "from z3 import *\n",
    "\n",
    "from itertools import combinations\n",
    "from z3 import *\n",
    "from utils import *\n",
    "import math"
   ]
  },
  {
   "cell_type": "code",
   "execution_count": 4,
   "metadata": {},
   "outputs": [],
   "source": [
    "def at_least_one_seq(bool_vars):\n",
    "    return at_least_one_np(bool_vars)\n",
    "\n",
    "def at_most_one_seq(bool_vars, name):\n",
    "    constraints = []\n",
    "    n = len(bool_vars)\n",
    "    s = [Bool(f\"s_{name}_{i}\") for i in range(n - 1)]\n",
    "    constraints.append(Or(Not(bool_vars[0]), s[0]))\n",
    "    constraints.append(Or(Not(bool_vars[n-1]), Not(s[n-2])))\n",
    "    for i in range(1, n - 1):\n",
    "        constraints.append(Or(Not(bool_vars[i]), s[i]))\n",
    "        constraints.append(Or(Not(bool_vars[i]), Not(s[i-1])))\n",
    "        constraints.append(Or(Not(s[i-1]), s[i]))\n",
    "    return And(constraints)\n",
    "\n",
    "def exactly_one_seq(bool_vars, name):\n",
    "    return And(at_least_one_seq(bool_vars), at_most_one_seq(bool_vars, name))"
   ]
  },
  {
   "cell_type": "code",
   "execution_count": 8,
   "metadata": {},
   "outputs": [
    {
     "name": "stdout",
     "output_type": "stream",
     "text": [
      "[[0_0, 0_1, 0_2, 0_3, 0_4, 0_5, 0_6, 0_7, 0_8, 0_9], [1_0, 1_1, 1_2, 1_3, 1_4, 1_5, 1_6, 1_7, 1_8, 1_9], [2_0, 2_1, 2_2, 2_3, 2_4, 2_5, 2_6, 2_7, 2_8, 2_9], [3_0, 3_1, 3_2, 3_3, 3_4, 3_5, 3_6, 3_7, 3_8, 3_9], [4_0, 4_1, 4_2, 4_3, 4_4, 4_5, 4_6, 4_7, 4_8, 4_9], [5_0, 5_1, 5_2, 5_3, 5_4, 5_5, 5_6, 5_7, 5_8, 5_9], [6_0, 6_1, 6_2, 6_3, 6_4, 6_5, 6_6, 6_7, 6_8, 6_9], [7_0, 7_1, 7_2, 7_3, 7_4, 7_5, 7_6, 7_7, 7_8, 7_9], [8_0, 8_1, 8_2, 8_3, 8_4, 8_5, 8_6, 8_7, 8_8, 8_9], [9_0, 9_1, 9_2, 9_3, 9_4, 9_5, 9_6, 9_7, 9_8, 9_9]]\n"
     ]
    }
   ],
   "source": [
    "'''n packs\n",
    "   m couriers\n",
    "   D matix int(n+1,m+1)\n",
    "   sz array of item's sizes\n",
    "   cpt array of couriers' capacities\n",
    "'''\n",
    "def mcp(n, m, D, sz, cpt):\n",
    "    #pred[i][j] = true if the j-th item is the predecessor of the i-th item\n",
    "    pred = [[Bool(f\"{i}_{j}\")for j in range(n+1)]for i in range(n+1)]\n",
    "    pass\n",
    "\n"
   ]
  }
 ],
 "metadata": {
  "kernelspec": {
   "display_name": "Python 3",
   "language": "python",
   "name": "python3"
  },
  "language_info": {
   "codemirror_mode": {
    "name": "ipython",
    "version": 3
   },
   "file_extension": ".py",
   "mimetype": "text/x-python",
   "name": "python",
   "nbconvert_exporter": "python",
   "pygments_lexer": "ipython3",
   "version": "3.11.4"
  }
 },
 "nbformat": 4,
 "nbformat_minor": 2
}
