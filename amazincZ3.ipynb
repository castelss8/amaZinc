{
 "cells": [
  {
   "cell_type": "code",
   "execution_count": 2,
   "metadata": {},
   "outputs": [],
   "source": [
    "from z3 import *\n",
    "\n",
    "from itertools import combinations\n",
    "from z3 import *\n",
    "from utils import *\n",
    "import math"
   ]
  },
  {
   "cell_type": "code",
   "execution_count": 3,
   "metadata": {},
   "outputs": [],
   "source": [
    "def at_least_one_np(bool_vars):\n",
    "    return Or(bool_vars)\n",
    "\n",
    "def at_most_one_np(bool_vars, name = \"\"):\n",
    "    return And([Not(And(pair[0], pair[1])) for pair in combinations(bool_vars, 2)])\n",
    "\n",
    "def exactly_one_np(bool_vars, name = \"\"):\n",
    "    return And(at_least_one_np(bool_vars), at_most_one_np(bool_vars, name))"
   ]
  },
  {
   "cell_type": "code",
   "execution_count": 4,
   "metadata": {},
   "outputs": [],
   "source": [
    "def at_least_one_seq(bool_vars):\n",
    "    return at_least_one_np(bool_vars)\n",
    "\n",
    "def at_most_one_seq(bool_vars, name):\n",
    "    constraints = []\n",
    "    n = len(bool_vars)\n",
    "    s = [Bool(f\"s_{name}_{i}\") for i in range(n - 1)]\n",
    "    constraints.append(Or(Not(bool_vars[0]), s[0]))\n",
    "    constraints.append(Or(Not(bool_vars[n-1]), Not(s[n-2])))\n",
    "    for i in range(1, n - 1):\n",
    "        constraints.append(Or(Not(bool_vars[i]), s[i]))\n",
    "        constraints.append(Or(Not(bool_vars[i]), Not(s[i-1])))\n",
    "        constraints.append(Or(Not(s[i-1]), s[i]))\n",
    "    return And(constraints)\n",
    "\n",
    "def exactly_one_seq(bool_vars, name):\n",
    "    return And(at_least_one_seq(bool_vars), at_most_one_seq(bool_vars, name))"
   ]
  },
  {
   "cell_type": "code",
   "execution_count": 5,
   "metadata": {},
   "outputs": [],
   "source": [
    "def at_least_k_seq(bool_vars, k, name):\n",
    "    return at_most_k_seq([Not(var) for var in bool_vars], len(bool_vars)-k, name)\n",
    "\n",
    "def at_most_k_seq(bool_vars, k, name):\n",
    "    constraints = []\n",
    "    n = len(bool_vars)\n",
    "    s = [[Bool(f\"s_{name}_{i}_{j}\") for j in range(k)] for i in range(n - 1)]\n",
    "    constraints.append(Or(Not(bool_vars[0]), s[0][0]))\n",
    "    constraints += [Not(s[0][j]) for j in range(1, k)]\n",
    "    for i in range(1, n-1):\n",
    "        constraints.append(Or(Not(bool_vars[i]), s[i][0]))\n",
    "        constraints.append(Or(Not(s[i-1][0]), s[i][0]))\n",
    "        constraints.append(Or(Not(bool_vars[i]), Not(s[i-1][k-1])))\n",
    "        for j in range(1, k):\n",
    "            constraints.append(Or(Not(bool_vars[i]), Not(s[i-1][j-1]), s[i][j]))\n",
    "            constraints.append(Or(Not(s[i-1][j]), s[i][j]))\n",
    "    constraints.append(Or(Not(bool_vars[n-1]), Not(s[n-2][k-1])))   \n",
    "    return And(constraints)\n",
    "\n",
    "def exactly_k_seq(bool_vars, k, name):\n",
    "    return And(at_most_k_seq(bool_vars, k, name+'1'), at_least_k_seq(bool_vars, k, name))"
   ]
  },
  {
   "cell_type": "code",
   "execution_count": 21,
   "metadata": {},
   "outputs": [
    {
     "ename": "SyntaxError",
     "evalue": "keyword argument repeated: check (2784752076.py, line 16)",
     "output_type": "error",
     "traceback": [
      "\u001b[1;36m  Cell \u001b[1;32mIn[21], line 16\u001b[1;36m\u001b[0m\n\u001b[1;33m    If(v[numCour][i]==True, check=True, check=False)\u001b[0m\n\u001b[1;37m                                        ^\u001b[0m\n\u001b[1;31mSyntaxError\u001b[0m\u001b[1;31m:\u001b[0m keyword argument repeated: check\n"
     ]
    }
   ],
   "source": [
    "'''n packs\n",
    "   m couriers\n",
    "   D matix int(n+1,m+1)\n",
    "   sz array of item's sizes\n",
    "   cpt array of couriers' capacities\n",
    "'''\n",
    "\n",
    "def numPackCour(numCour, v):\n",
    "   return Sum(v[numCour])\n",
    "\n",
    "def listPackCour(numCour, v, pred):\n",
    "   check = False\n",
    "   i=-1\n",
    "   while not check and i<len(v[numCour]):\n",
    "      i+=1\n",
    "      If(v[numCour][i]==True, check=True, check=False)\n",
    "      \n",
    "\n",
    "      \n",
    "            \n",
    "\n",
    "def mcp(n, m, D, sz, cpt):\n",
    "   \n",
    "   #pred[i][j] = true if the j-th item is the predecessor of the i-th item\n",
    "   pred = [[Bool(f\"pred({i})_{j}\")for j in range(n+1)]for i in range(n+1)]\n",
    "   #print(pred)\n",
    "\n",
    "   #create Solver\n",
    "   solv= Solver()\n",
    "\n",
    "   col_n = []\n",
    "   for j in range(n):\n",
    "      col_n += [pred[j][n]]\n",
    "   solv.add(exactly_k_seq(pred[n],m, f\"PR_{n}\")) #pred row\n",
    "   solv.add(exactly_k_seq(col_n,m, f\"PC_{n}\")) #pred col\n",
    "   print(solv.check())\n",
    "\n",
    "\n",
    "   #i=0 to i=n-1 constraint At most one\n",
    "   #j=0 to j=n-1 constraint At most one\n",
    "   for i in range(n):\n",
    "      col_i = []\n",
    "      for j in range(n+1):\n",
    "         col_i += [pred[j][i]]\n",
    "\n",
    "      solv.add(exactly_one_seq(col_i, f\"PC_{i}\"))\n",
    "      print(pred[i]) \n",
    "      solv.add(exactly_one_seq(pred[i], f\"PR_{i}\"))\n",
    "\n",
    "   \n",
    "\n",
    "\n",
    "\n",
    "   '''vehicle matrix \n",
    "      col = packs\n",
    "      rows = courriers \n",
    "      each rows represent the list of packs foreach courrier\n",
    "   '''\n",
    "   #create matrix v mxn\n",
    "   v=[[Bool(f\"vehicle({i})_{j}\")for j in range(n)]for i in range(m)]\n",
    "   \n",
    "\n",
    "   #each pack have to be carried by exactly one courrier\n",
    "   for j in range(n):\n",
    "      solv.add(exactly_one_seq([v[i][j] for i in range(m)], f\"v_{j}\"))\n",
    "   \n",
    "   solv.check()\n",
    "   mod = solv.model()\n",
    "   #print(mod)\n",
    "   #print(mod.evaluate(pred[0][0]))\n",
    "   return [(i, j) for j in range(n) for i in range(m) if mod.evaluate(v[i][j])]\n",
    "\n",
    "print(mcp(10,3,0,0,0))\n",
    "\n"
   ]
  },
  {
   "cell_type": "code",
   "execution_count": 20,
   "metadata": {},
   "outputs": [
    {
     "name": "stdout",
     "output_type": "stream",
     "text": [
      "10\n"
     ]
    }
   ],
   "source": []
  }
 ],
 "metadata": {
  "kernelspec": {
   "display_name": "Python 3",
   "language": "python",
   "name": "python3"
  },
  "language_info": {
   "codemirror_mode": {
    "name": "ipython",
    "version": 3
   },
   "file_extension": ".py",
   "mimetype": "text/x-python",
   "name": "python",
   "nbconvert_exporter": "python",
   "pygments_lexer": "ipython3",
   "version": "3.11.4"
  }
 },
 "nbformat": 4,
 "nbformat_minor": 2
}
