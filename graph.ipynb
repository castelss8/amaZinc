{
 "cells": [
  {
   "cell_type": "code",
   "execution_count": 20,
   "metadata": {},
   "outputs": [],
   "source": [
    "import matplotlib as mplt\n",
    "import numpy as np\n",
    "import pandas as pd\n",
    "from sympy import symbols, Eq, solve, sqrt"
   ]
  },
  {
   "cell_type": "code",
   "execution_count": 35,
   "metadata": {},
   "outputs": [],
   "source": [
    "#read istances\n",
    "f_name = \"Instances/inst04\"\n",
    "with open(f_name + \".dat\", \"r\") as f:\n",
    "    lines = f.readlines()\n",
    "\n",
    "#variables\n",
    "m = int(lines[0]) #number of couriers\n",
    "n = int(lines[1]) #number of items\n",
    "l = [int(x) for x in lines[2].split()] #%array of couriers' capacities\n",
    "s = [int(x) for x in lines[3].split()] #%array of items' sizes\n",
    "D = [[int(x) for x in line.split()] for line in lines[4:]] #%matrix of distances\n",
    "#lower_bound = prim(D) #lower bound\n"
   ]
  },
  {
   "cell_type": "code",
   "execution_count": 38,
   "metadata": {},
   "outputs": [
    {
     "name": "stdout",
     "output_type": "stream",
     "text": [
      "53\n",
      "[0, 0] [53, 0]\n",
      "x2**2\n",
      "Solution: [(249/106, -63*sqrt(1615)/106), (249/106, 63*sqrt(1615)/106)]\n",
      "[0, 0] [53, 0] [2.349056603773585, -23.884763617676178]\n",
      "[[0, 0], [53, 0], [2.349056603773585, -23.884763617676178]]\n"
     ]
    }
   ],
   "source": [
    "#calculate coordinates from matrix distance\n",
    "\n",
    "#this is the origin point where each currier will start\n",
    "x0, y0 = 0 , 0\n",
    "P0 = [x0, y0]\n",
    "#assign another arbitrary point from D matrix, it will be placed on te x-axis\n",
    "#the other coordinate is caculate using the distance between the origin point and the first pack\n",
    "\n",
    "D_P0_P1 = D[0][n]\n",
    "x1 = sqrt(D_P0_P1**2)\n",
    "y1 =0\n",
    "print(x1)\n",
    "P1 =[x1,y1]\n",
    "print(P0, P1)\n",
    "\n",
    "#now we need to calculate the third point by using the distance between P2-P1 and P2-P0\n",
    "D_P0_P2 = D[1][n]\n",
    "D_P1_P2 = D[0][1]\n",
    "\n",
    "x2, y2 = symbols('x2 y2')\n",
    "eq1 = Eq(sqrt((x2 - x1)**2 + (y2 - y1)**2), D_P1_P2)\n",
    "eq2 = Eq(sqrt(x1**2 + y1**2), D_P0_P1)\n",
    "eq3 = Eq(sqrt(x2**2 + y2**2), D_P0_P2)\n",
    "\n",
    "solution = solve((eq1, eq2, eq3), (x2, y2))\n",
    "\n",
    "# Print the solution\n",
    "print(\"Solution:\", solution)\n",
    "x2,y2= solution[0]\n",
    "P2 = [float(x2), float(y2)]\n",
    "\n",
    "\n",
    "P = [P0, P1, P2]\n",
    "\n",
    "print(P)\n",
    "\n",
    "#before go foward we must control that the first three points aren't on the same line\n",
    "\n",
    "if (x2==x1 or y2 == y1):\n",
    "    print(\"chose another point\")\n",
    "\n",
    "\n",
    "\n",
    "\n"
   ]
  },
  {
   "cell_type": "code",
   "execution_count": null,
   "metadata": {},
   "outputs": [],
   "source": [
    "#in this method we use the triangulation define all others points\n",
    "def triangulation(D):\n",
    "    return 0"
   ]
  },
  {
   "cell_type": "code",
   "execution_count": null,
   "metadata": {},
   "outputs": [],
   "source": [
    "#calculate the thirds points using P0, P1, P2 and the distance matrix D\n",
    "\n",
    "for i in range(2, n):\n",
    "    "
   ]
  }
 ],
 "metadata": {
  "kernelspec": {
   "display_name": "base",
   "language": "python",
   "name": "python3"
  },
  "language_info": {
   "codemirror_mode": {
    "name": "ipython",
    "version": 3
   },
   "file_extension": ".py",
   "mimetype": "text/x-python",
   "name": "python",
   "nbconvert_exporter": "python",
   "pygments_lexer": "ipython3",
   "version": "3.11.5"
  }
 },
 "nbformat": 4,
 "nbformat_minor": 2
}
